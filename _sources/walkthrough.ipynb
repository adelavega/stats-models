{
 "cells": [
  {
   "cell_type": "markdown",
   "id": "22087625",
   "metadata": {},
   "source": [
    "# Walkthrough \n",
    "\n",
    "## The problem: Representing multi-stage models\n",
    "\n",
    "The statistical analysis of neuroimaging data typically occurs across distinct\n",
    "stages of analysis, with parameter estimates from lower levels of analysis\n",
    "propagating to higher levels for subsequent analysis.\n",
    "\n",
    "For example, in fMRI it is common to first fit a design matrix to run-level time\n",
    "series followed by a fixed-effects model to combine estimates at the\n",
    "subject-level. Finally, a dataset-level (or \"group level\") random-effects\n",
    "one-sample t-test can be performed to estimate population level effects. At each\n",
    "level of the analysis, we need to know which image inputs correspond to which\n",
    "design matrix, and more how to keep track of and combine outputs from the\n",
    "previous level at the current level of analysis.\n",
    "\n",
    "_BIDS Stats Models_ proposes a general machine-readable document to describe\n",
    "multi-stage neuroimaging analyses in a precise, yet flexible manner. We\n",
    "accomplish this by defining a _graph_ composed of **Nodes** representing each\n",
    "level of the analysis and **Edges** which define the flow of data from one Node\n",
    "to another. Within each {py:class}`~bsmschema.models.Node` we specify a\n",
    "{py:class}`~bsmschema.models.Model` to estimate, and at least one\n",
    "{py:class}`~bsmschema.models.Contrast` to define the computed outputs of each\n",
    "`Node`. Within each node we also specify how to group the incoming inputs into\n",
    "analysis units using the {py:attr}`~bsmschema.models.Node.GroupBy` directive.\n",
    "\n",
    "## A simple example\n",
    "\n",
    "In a [Simon task](https://openneuro.org/datasets/ds000101/versions/00004),\n",
    "participants were scanned for 2 runs and asked to indicate whether a diamond\n",
    "that was presented to the left or right of a central fixation cross was green or\n",
    "red. There were two conditions: color-spatial _congruent_ and _incongruent_\n",
    "trials.\n",
    "\n",
    "A basic analysis of this task is to determine which regions showed _greater\n",
    "activity for incongruent versus congruent trials_, across all participants.\n",
    "\n",
    "We can perform this analysis by first estimating a **run-level** timeseries\n",
    "model for \"Incongruent\" and \"Congruent\" trials--separately for each individual\n",
    "run. We then compute a contrast comparing _Incongruent > Congruent_ (IvC)\n",
    "trials. \n",
    "\n",
    "Next, we pass the resulting statistical maps for the contrast to a\n",
    "**subject-level** estimator, which computes the average _IvC_ effect for each\n",
    "subject separately. \n",
    "\n",
    "Finally, we pass the resulting estimates to a\n",
    "**dataset-level** estimator, which conduts a one-sample t-test across all of the\n",
    "subject estimates for the _IvC_ contrast.\n",
    "\n",
    "Let's visualize this model for 3 participants:\n",
    "\n",
    "![flow](images/flow_model.png)\n",
    "\n",
    "We can formally represent this analysis as **BIDS Stats Model**:\n",
    "\n",
    "```{literalinclude} examples/model-walkthrough_smdl.json\n",
    ":language: JSON\n",
    "```\n",
    "\n",
    "BIDS statistical models *must* have a {py:attr}`~bsmschema.models.BIDSStatsModel.Name` and {py:attr}`~bsmschema.models.BIDSStatsModel.BIDSModelVersion` defined. \n",
    "\n",
    "```{note}\n",
    "For this example, we have limited the model to three subjects using the `Input` key.\n",
    "```\n",
    "\n",
    "_BSM_ defines this multi-stage analysis as a Graph, with each level of analysis\n",
    "defined as a separate `Node` object.\n",
    "\n",
    "### Run-level Model\n",
    "\n",
    "First, we define a `Node` for the run level analysis.\n",
    "\n",
    "```{literalinclude} examples/model-walkthrough_smdl.json\n",
    ":language: JSON\n",
    ":lines: 6-19\n",
    ":emphasize-lines: 2\n",
    "```\n",
    "\n",
    "Note that the {py:attr}`~bsmschema.models.Node.Level` key is necessary for\n",
    "determining which input images are available to the estimator. At the `Run`\n",
    "level, there are many sources of possible variables, most notably `_events.tsv`\n",
    "files which define the timing of task-related events.\n",
    "\n",
    "Next we define a {py:attr}`~bsmschema.models.Model` for this node.\n",
    "\n",
    "```{literalinclude} examples/model-walkthrough_smdl.json\n",
    ":language: JSON\n",
    ":start-at: '\"Model\": {\"X\": [1,'\n",
    ":lines: 1\n",
    "```\n",
    "\n",
    "The {py:attr}`~bsmschema.models.Model.X` parameter defines the variables in the design matrix. Here, we are modeling the `incongruent` and `congruent` trial types, in addition to an intercept (idenitified by the special key: `1`; see: \\_).\n",
    "\n",
    "Next, we specify an *Incongruent-Congruent (IvC)* contrast using the {py:attr}`~bsmschema.models.Contrast` key:\n",
    "\n",
    "```{literalinclude} examples/model-walkthrough_smdl.json\n",
    ":language: JSON\n",
    ":lines: 11-18\n",
    "```\n",
    "\n",
    "If you have used other fMRI modeling tools this should be familar. We have\n",
    "specified a t-test contrast with the weights `[1, -1]` for the conditions:\n",
    "`[\"incongruent\", \"congruent\"]` and given this contrast the name `IvC`.\n",
    "\n",
    "```{attention}\n",
    "`Contrasts` **define the outputs** that will be available to the next `Node`.\n",
    "\n",
    "Since we only modeled a single contrast (`IvC`), the next `Node` will not have access to estimates for main effects for the `congruent` or `incongruent` conditions, unless we explicitly compute a `Contrast` for each.\n",
    "```\n",
    "\n",
    "#### How to _group_ analysis inputs?\n",
    "\n",
    "An underappreciated factor in multi-stage models is the grouping of image inputs\n",
    "into analysis units. For example, here we want to estimate a timeseries model\n",
    "for each `Run` separately, rather that concatenating all runs for each subject\n",
    "into one large model.\n",
    "\n",
    "We must explicitly define this grouping structure using the\n",
    "{py:attr}`~bsmschema.models.Node.GroupBy` key for every node. To fit a separate\n",
    "time series model for each individual run image, we specify:\n",
    "\n",
    "\n",
    "```{literalinclude} examples/model-walkthrough_smdl.json\n",
    ":language: JSON\n",
    ":start-at: ' \"GroupBy\": [\"run\", \"subject\"]'\n",
    ":lines: 1\n",
    "```\n",
    "\n",
    "Here, `GroupBy` states that for every unique combination of `run` and `subject`,\n",
    "we will fit a separate model. This results in a single input image per model.\n",
    "\n",
    "If you are familar with tabular data such as R `DataFrames`, or `pandas`, the\n",
    "`GroupBy` operation should be familar. For instance, given three subjects with\n",
    "two runs each, we can define 6 rows in a table (3x2):"
   ]
  },
  {
   "cell_type": "code",
   "execution_count": 1,
   "id": "27384e4a",
   "metadata": {
    "tags": [
     "remove_input"
    ]
   },
   "outputs": [
    {
     "data": {
      "text/html": [
       "<style type=\"text/css\">\n",
       "</style>\n",
       "<table id=\"T_603a7\">\n",
       "  <thead>\n",
       "    <tr>\n",
       "      <th id=\"T_603a7_level0_col0\" class=\"col_heading level0 col0\" >subject</th>\n",
       "      <th id=\"T_603a7_level0_col1\" class=\"col_heading level0 col1\" >run</th>\n",
       "      <th id=\"T_603a7_level0_col2\" class=\"col_heading level0 col2\" >image</th>\n",
       "    </tr>\n",
       "  </thead>\n",
       "  <tbody>\n",
       "    <tr>\n",
       "      <td id=\"T_603a7_row0_col0\" class=\"data row0 col0\" >01</td>\n",
       "      <td id=\"T_603a7_row0_col1\" class=\"data row0 col1\" >1</td>\n",
       "      <td id=\"T_603a7_row0_col2\" class=\"data row0 col2\" >sub-01_task-simon_run-1_bold.nii.gz</td>\n",
       "    </tr>\n",
       "    <tr>\n",
       "      <td id=\"T_603a7_row1_col0\" class=\"data row1 col0\" >01</td>\n",
       "      <td id=\"T_603a7_row1_col1\" class=\"data row1 col1\" >2</td>\n",
       "      <td id=\"T_603a7_row1_col2\" class=\"data row1 col2\" >sub-01_task-simon_run-2_bold.nii.gz</td>\n",
       "    </tr>\n",
       "    <tr>\n",
       "      <td id=\"T_603a7_row2_col0\" class=\"data row2 col0\" >02</td>\n",
       "      <td id=\"T_603a7_row2_col1\" class=\"data row2 col1\" >1</td>\n",
       "      <td id=\"T_603a7_row2_col2\" class=\"data row2 col2\" >sub-02_task-simon_run-1_bold.nii.gz</td>\n",
       "    </tr>\n",
       "    <tr>\n",
       "      <td id=\"T_603a7_row3_col0\" class=\"data row3 col0\" >02</td>\n",
       "      <td id=\"T_603a7_row3_col1\" class=\"data row3 col1\" >2</td>\n",
       "      <td id=\"T_603a7_row3_col2\" class=\"data row3 col2\" >sub-02_task-simon_run-2_bold.nii.gz</td>\n",
       "    </tr>\n",
       "    <tr>\n",
       "      <td id=\"T_603a7_row4_col0\" class=\"data row4 col0\" >03</td>\n",
       "      <td id=\"T_603a7_row4_col1\" class=\"data row4 col1\" >1</td>\n",
       "      <td id=\"T_603a7_row4_col2\" class=\"data row4 col2\" >sub-03_task-simon_run-1_bold.nii.gz</td>\n",
       "    </tr>\n",
       "    <tr>\n",
       "      <td id=\"T_603a7_row5_col0\" class=\"data row5 col0\" >03</td>\n",
       "      <td id=\"T_603a7_row5_col1\" class=\"data row5 col1\" >2</td>\n",
       "      <td id=\"T_603a7_row5_col2\" class=\"data row5 col2\" >sub-03_task-simon_run-2_bold.nii.gz</td>\n",
       "    </tr>\n",
       "  </tbody>\n",
       "</table>\n"
      ],
      "text/plain": [
       "<pandas.io.formats.style.Styler at 0x7f8a80693e80>"
      ]
     },
     "metadata": {},
     "output_type": "display_data"
    }
   ],
   "source": [
    "from IPython.display import display\n",
    "import pandas as pd\n",
    "pd.set_option('display.max_colwidth', None)\n",
    "\n",
    "subjects = [\"01\", \"02\", \"03\"]\n",
    "runs = [1, 2]\n",
    "# For later use\n",
    "contrasts = [\"IvC\"]\n",
    "stats = [\"effect\", \"variance\"]\n",
    "\n",
    "def display_groups(df, groups):\n",
    "    for group in df.groupby(groups, as_index=False):\n",
    "        display(group[1].style.hide(axis=\"index\"))\n",
    "\n",
    "inputs = pd.DataFrame.from_records(\n",
    "  [{\n",
    "     \"subject\": subject,\n",
    "     \"run\": run,\n",
    "     \"image\": f\"sub-{subject}_task-simon_run-{run}_bold.nii.gz\",\n",
    "   } for subject in subjects for run in runs]\n",
    ")\n",
    "display(inputs.style.hide(axis=\"index\"))"
   ]
  },
  {
   "cell_type": "markdown",
   "id": "2f4e69fd",
   "metadata": {},
   "source": [
    "If we `GroupBy` *subject*, there would be three groups of images--one for each subject:"
   ]
  },
  {
   "cell_type": "code",
   "execution_count": 2,
   "id": "9d243830",
   "metadata": {
    "tags": [
     "remove_input"
    ]
   },
   "outputs": [
    {
     "data": {
      "text/html": [
       "<style type=\"text/css\">\n",
       "</style>\n",
       "<table id=\"T_a38fa\">\n",
       "  <thead>\n",
       "    <tr>\n",
       "      <th id=\"T_a38fa_level0_col0\" class=\"col_heading level0 col0\" >subject</th>\n",
       "      <th id=\"T_a38fa_level0_col1\" class=\"col_heading level0 col1\" >run</th>\n",
       "      <th id=\"T_a38fa_level0_col2\" class=\"col_heading level0 col2\" >image</th>\n",
       "    </tr>\n",
       "  </thead>\n",
       "  <tbody>\n",
       "    <tr>\n",
       "      <td id=\"T_a38fa_row0_col0\" class=\"data row0 col0\" >01</td>\n",
       "      <td id=\"T_a38fa_row0_col1\" class=\"data row0 col1\" >1</td>\n",
       "      <td id=\"T_a38fa_row0_col2\" class=\"data row0 col2\" >sub-01_task-simon_run-1_bold.nii.gz</td>\n",
       "    </tr>\n",
       "    <tr>\n",
       "      <td id=\"T_a38fa_row1_col0\" class=\"data row1 col0\" >01</td>\n",
       "      <td id=\"T_a38fa_row1_col1\" class=\"data row1 col1\" >2</td>\n",
       "      <td id=\"T_a38fa_row1_col2\" class=\"data row1 col2\" >sub-01_task-simon_run-2_bold.nii.gz</td>\n",
       "    </tr>\n",
       "  </tbody>\n",
       "</table>\n"
      ],
      "text/plain": [
       "<pandas.io.formats.style.Styler at 0x7f8a98e882b0>"
      ]
     },
     "metadata": {},
     "output_type": "display_data"
    },
    {
     "data": {
      "text/html": [
       "<style type=\"text/css\">\n",
       "</style>\n",
       "<table id=\"T_d7c96\">\n",
       "  <thead>\n",
       "    <tr>\n",
       "      <th id=\"T_d7c96_level0_col0\" class=\"col_heading level0 col0\" >subject</th>\n",
       "      <th id=\"T_d7c96_level0_col1\" class=\"col_heading level0 col1\" >run</th>\n",
       "      <th id=\"T_d7c96_level0_col2\" class=\"col_heading level0 col2\" >image</th>\n",
       "    </tr>\n",
       "  </thead>\n",
       "  <tbody>\n",
       "    <tr>\n",
       "      <td id=\"T_d7c96_row0_col0\" class=\"data row0 col0\" >02</td>\n",
       "      <td id=\"T_d7c96_row0_col1\" class=\"data row0 col1\" >1</td>\n",
       "      <td id=\"T_d7c96_row0_col2\" class=\"data row0 col2\" >sub-02_task-simon_run-1_bold.nii.gz</td>\n",
       "    </tr>\n",
       "    <tr>\n",
       "      <td id=\"T_d7c96_row1_col0\" class=\"data row1 col0\" >02</td>\n",
       "      <td id=\"T_d7c96_row1_col1\" class=\"data row1 col1\" >2</td>\n",
       "      <td id=\"T_d7c96_row1_col2\" class=\"data row1 col2\" >sub-02_task-simon_run-2_bold.nii.gz</td>\n",
       "    </tr>\n",
       "  </tbody>\n",
       "</table>\n"
      ],
      "text/plain": [
       "<pandas.io.formats.style.Styler at 0x7f8a98ebc970>"
      ]
     },
     "metadata": {},
     "output_type": "display_data"
    },
    {
     "data": {
      "text/html": [
       "<style type=\"text/css\">\n",
       "</style>\n",
       "<table id=\"T_0b77a\">\n",
       "  <thead>\n",
       "    <tr>\n",
       "      <th id=\"T_0b77a_level0_col0\" class=\"col_heading level0 col0\" >subject</th>\n",
       "      <th id=\"T_0b77a_level0_col1\" class=\"col_heading level0 col1\" >run</th>\n",
       "      <th id=\"T_0b77a_level0_col2\" class=\"col_heading level0 col2\" >image</th>\n",
       "    </tr>\n",
       "  </thead>\n",
       "  <tbody>\n",
       "    <tr>\n",
       "      <td id=\"T_0b77a_row0_col0\" class=\"data row0 col0\" >03</td>\n",
       "      <td id=\"T_0b77a_row0_col1\" class=\"data row0 col1\" >1</td>\n",
       "      <td id=\"T_0b77a_row0_col2\" class=\"data row0 col2\" >sub-03_task-simon_run-1_bold.nii.gz</td>\n",
       "    </tr>\n",
       "    <tr>\n",
       "      <td id=\"T_0b77a_row1_col0\" class=\"data row1 col0\" >03</td>\n",
       "      <td id=\"T_0b77a_row1_col1\" class=\"data row1 col1\" >2</td>\n",
       "      <td id=\"T_0b77a_row1_col2\" class=\"data row1 col2\" >sub-03_task-simon_run-2_bold.nii.gz</td>\n",
       "    </tr>\n",
       "  </tbody>\n",
       "</table>\n"
      ],
      "text/plain": [
       "<pandas.io.formats.style.Styler at 0x7f8a98ebc0a0>"
      ]
     },
     "metadata": {},
     "output_type": "display_data"
    }
   ],
   "source": [
    "display_groups(inputs, \"subject\")"
   ]
  },
  {
   "cell_type": "markdown",
   "id": "eb62c349",
   "metadata": {},
   "source": [
    "If we `GroupBy` *run*, all images with the same *run* ID would be grouped together, resulting in two groups, one for each distinct group ID:"
   ]
  },
  {
   "cell_type": "code",
   "execution_count": 3,
   "id": "5be3a5ec",
   "metadata": {
    "tags": [
     "remove_input"
    ]
   },
   "outputs": [
    {
     "data": {
      "text/html": [
       "<style type=\"text/css\">\n",
       "</style>\n",
       "<table id=\"T_d9a2d\">\n",
       "  <thead>\n",
       "    <tr>\n",
       "      <th id=\"T_d9a2d_level0_col0\" class=\"col_heading level0 col0\" >subject</th>\n",
       "      <th id=\"T_d9a2d_level0_col1\" class=\"col_heading level0 col1\" >run</th>\n",
       "      <th id=\"T_d9a2d_level0_col2\" class=\"col_heading level0 col2\" >image</th>\n",
       "    </tr>\n",
       "  </thead>\n",
       "  <tbody>\n",
       "    <tr>\n",
       "      <td id=\"T_d9a2d_row0_col0\" class=\"data row0 col0\" >01</td>\n",
       "      <td id=\"T_d9a2d_row0_col1\" class=\"data row0 col1\" >1</td>\n",
       "      <td id=\"T_d9a2d_row0_col2\" class=\"data row0 col2\" >sub-01_task-simon_run-1_bold.nii.gz</td>\n",
       "    </tr>\n",
       "    <tr>\n",
       "      <td id=\"T_d9a2d_row1_col0\" class=\"data row1 col0\" >02</td>\n",
       "      <td id=\"T_d9a2d_row1_col1\" class=\"data row1 col1\" >1</td>\n",
       "      <td id=\"T_d9a2d_row1_col2\" class=\"data row1 col2\" >sub-02_task-simon_run-1_bold.nii.gz</td>\n",
       "    </tr>\n",
       "    <tr>\n",
       "      <td id=\"T_d9a2d_row2_col0\" class=\"data row2 col0\" >03</td>\n",
       "      <td id=\"T_d9a2d_row2_col1\" class=\"data row2 col1\" >1</td>\n",
       "      <td id=\"T_d9a2d_row2_col2\" class=\"data row2 col2\" >sub-03_task-simon_run-1_bold.nii.gz</td>\n",
       "    </tr>\n",
       "  </tbody>\n",
       "</table>\n"
      ],
      "text/plain": [
       "<pandas.io.formats.style.Styler at 0x7f8a98e88400>"
      ]
     },
     "metadata": {},
     "output_type": "display_data"
    },
    {
     "data": {
      "text/html": [
       "<style type=\"text/css\">\n",
       "</style>\n",
       "<table id=\"T_dd032\">\n",
       "  <thead>\n",
       "    <tr>\n",
       "      <th id=\"T_dd032_level0_col0\" class=\"col_heading level0 col0\" >subject</th>\n",
       "      <th id=\"T_dd032_level0_col1\" class=\"col_heading level0 col1\" >run</th>\n",
       "      <th id=\"T_dd032_level0_col2\" class=\"col_heading level0 col2\" >image</th>\n",
       "    </tr>\n",
       "  </thead>\n",
       "  <tbody>\n",
       "    <tr>\n",
       "      <td id=\"T_dd032_row0_col0\" class=\"data row0 col0\" >01</td>\n",
       "      <td id=\"T_dd032_row0_col1\" class=\"data row0 col1\" >2</td>\n",
       "      <td id=\"T_dd032_row0_col2\" class=\"data row0 col2\" >sub-01_task-simon_run-2_bold.nii.gz</td>\n",
       "    </tr>\n",
       "    <tr>\n",
       "      <td id=\"T_dd032_row1_col0\" class=\"data row1 col0\" >02</td>\n",
       "      <td id=\"T_dd032_row1_col1\" class=\"data row1 col1\" >2</td>\n",
       "      <td id=\"T_dd032_row1_col2\" class=\"data row1 col2\" >sub-02_task-simon_run-2_bold.nii.gz</td>\n",
       "    </tr>\n",
       "    <tr>\n",
       "      <td id=\"T_dd032_row2_col0\" class=\"data row2 col0\" >03</td>\n",
       "      <td id=\"T_dd032_row2_col1\" class=\"data row2 col1\" >2</td>\n",
       "      <td id=\"T_dd032_row2_col2\" class=\"data row2 col2\" >sub-03_task-simon_run-2_bold.nii.gz</td>\n",
       "    </tr>\n",
       "  </tbody>\n",
       "</table>\n"
      ],
      "text/plain": [
       "<pandas.io.formats.style.Styler at 0x7f8a98e880a0>"
      ]
     },
     "metadata": {},
     "output_type": "display_data"
    }
   ],
   "source": [
    "display_groups(inputs, \"run\")"
   ]
  },
  {
   "cell_type": "markdown",
   "id": "24513029",
   "metadata": {},
   "source": [
    "However, since we want to model each `BOLD` image separately, we must `GroupBy`\n",
    "**both _subject_ and _run_**, resulting in six groups with a single image each."
   ]
  },
  {
   "cell_type": "code",
   "execution_count": 4,
   "id": "a853abfc",
   "metadata": {
    "tags": [
     "remove_input"
    ]
   },
   "outputs": [
    {
     "data": {
      "text/html": [
       "<style type=\"text/css\">\n",
       "</style>\n",
       "<table id=\"T_abc06\">\n",
       "  <thead>\n",
       "    <tr>\n",
       "      <th id=\"T_abc06_level0_col0\" class=\"col_heading level0 col0\" >subject</th>\n",
       "      <th id=\"T_abc06_level0_col1\" class=\"col_heading level0 col1\" >run</th>\n",
       "      <th id=\"T_abc06_level0_col2\" class=\"col_heading level0 col2\" >image</th>\n",
       "    </tr>\n",
       "  </thead>\n",
       "  <tbody>\n",
       "    <tr>\n",
       "      <td id=\"T_abc06_row0_col0\" class=\"data row0 col0\" >01</td>\n",
       "      <td id=\"T_abc06_row0_col1\" class=\"data row0 col1\" >1</td>\n",
       "      <td id=\"T_abc06_row0_col2\" class=\"data row0 col2\" >sub-01_task-simon_run-1_bold.nii.gz</td>\n",
       "    </tr>\n",
       "  </tbody>\n",
       "</table>\n"
      ],
      "text/plain": [
       "<pandas.io.formats.style.Styler at 0x7f8a6ad268b0>"
      ]
     },
     "metadata": {},
     "output_type": "display_data"
    },
    {
     "data": {
      "text/html": [
       "<style type=\"text/css\">\n",
       "</style>\n",
       "<table id=\"T_ca594\">\n",
       "  <thead>\n",
       "    <tr>\n",
       "      <th id=\"T_ca594_level0_col0\" class=\"col_heading level0 col0\" >subject</th>\n",
       "      <th id=\"T_ca594_level0_col1\" class=\"col_heading level0 col1\" >run</th>\n",
       "      <th id=\"T_ca594_level0_col2\" class=\"col_heading level0 col2\" >image</th>\n",
       "    </tr>\n",
       "  </thead>\n",
       "  <tbody>\n",
       "    <tr>\n",
       "      <td id=\"T_ca594_row0_col0\" class=\"data row0 col0\" >02</td>\n",
       "      <td id=\"T_ca594_row0_col1\" class=\"data row0 col1\" >1</td>\n",
       "      <td id=\"T_ca594_row0_col2\" class=\"data row0 col2\" >sub-02_task-simon_run-1_bold.nii.gz</td>\n",
       "    </tr>\n",
       "  </tbody>\n",
       "</table>\n"
      ],
      "text/plain": [
       "<pandas.io.formats.style.Styler at 0x7f8a98e76dc0>"
      ]
     },
     "metadata": {},
     "output_type": "display_data"
    },
    {
     "data": {
      "text/html": [
       "<style type=\"text/css\">\n",
       "</style>\n",
       "<table id=\"T_cc069\">\n",
       "  <thead>\n",
       "    <tr>\n",
       "      <th id=\"T_cc069_level0_col0\" class=\"col_heading level0 col0\" >subject</th>\n",
       "      <th id=\"T_cc069_level0_col1\" class=\"col_heading level0 col1\" >run</th>\n",
       "      <th id=\"T_cc069_level0_col2\" class=\"col_heading level0 col2\" >image</th>\n",
       "    </tr>\n",
       "  </thead>\n",
       "  <tbody>\n",
       "    <tr>\n",
       "      <td id=\"T_cc069_row0_col0\" class=\"data row0 col0\" >03</td>\n",
       "      <td id=\"T_cc069_row0_col1\" class=\"data row0 col1\" >1</td>\n",
       "      <td id=\"T_cc069_row0_col2\" class=\"data row0 col2\" >sub-03_task-simon_run-1_bold.nii.gz</td>\n",
       "    </tr>\n",
       "  </tbody>\n",
       "</table>\n"
      ],
      "text/plain": [
       "<pandas.io.formats.style.Styler at 0x7f8a6ad1c730>"
      ]
     },
     "metadata": {},
     "output_type": "display_data"
    },
    {
     "data": {
      "text/html": [
       "<style type=\"text/css\">\n",
       "</style>\n",
       "<table id=\"T_2811b\">\n",
       "  <thead>\n",
       "    <tr>\n",
       "      <th id=\"T_2811b_level0_col0\" class=\"col_heading level0 col0\" >subject</th>\n",
       "      <th id=\"T_2811b_level0_col1\" class=\"col_heading level0 col1\" >run</th>\n",
       "      <th id=\"T_2811b_level0_col2\" class=\"col_heading level0 col2\" >image</th>\n",
       "    </tr>\n",
       "  </thead>\n",
       "  <tbody>\n",
       "    <tr>\n",
       "      <td id=\"T_2811b_row0_col0\" class=\"data row0 col0\" >01</td>\n",
       "      <td id=\"T_2811b_row0_col1\" class=\"data row0 col1\" >2</td>\n",
       "      <td id=\"T_2811b_row0_col2\" class=\"data row0 col2\" >sub-01_task-simon_run-2_bold.nii.gz</td>\n",
       "    </tr>\n",
       "  </tbody>\n",
       "</table>\n"
      ],
      "text/plain": [
       "<pandas.io.formats.style.Styler at 0x7f8a6ad1ce20>"
      ]
     },
     "metadata": {},
     "output_type": "display_data"
    },
    {
     "data": {
      "text/html": [
       "<style type=\"text/css\">\n",
       "</style>\n",
       "<table id=\"T_72717\">\n",
       "  <thead>\n",
       "    <tr>\n",
       "      <th id=\"T_72717_level0_col0\" class=\"col_heading level0 col0\" >subject</th>\n",
       "      <th id=\"T_72717_level0_col1\" class=\"col_heading level0 col1\" >run</th>\n",
       "      <th id=\"T_72717_level0_col2\" class=\"col_heading level0 col2\" >image</th>\n",
       "    </tr>\n",
       "  </thead>\n",
       "  <tbody>\n",
       "    <tr>\n",
       "      <td id=\"T_72717_row0_col0\" class=\"data row0 col0\" >02</td>\n",
       "      <td id=\"T_72717_row0_col1\" class=\"data row0 col1\" >2</td>\n",
       "      <td id=\"T_72717_row0_col2\" class=\"data row0 col2\" >sub-02_task-simon_run-2_bold.nii.gz</td>\n",
       "    </tr>\n",
       "  </tbody>\n",
       "</table>\n"
      ],
      "text/plain": [
       "<pandas.io.formats.style.Styler at 0x7f8a98ebca60>"
      ]
     },
     "metadata": {},
     "output_type": "display_data"
    },
    {
     "data": {
      "text/html": [
       "<style type=\"text/css\">\n",
       "</style>\n",
       "<table id=\"T_c80cd\">\n",
       "  <thead>\n",
       "    <tr>\n",
       "      <th id=\"T_c80cd_level0_col0\" class=\"col_heading level0 col0\" >subject</th>\n",
       "      <th id=\"T_c80cd_level0_col1\" class=\"col_heading level0 col1\" >run</th>\n",
       "      <th id=\"T_c80cd_level0_col2\" class=\"col_heading level0 col2\" >image</th>\n",
       "    </tr>\n",
       "  </thead>\n",
       "  <tbody>\n",
       "    <tr>\n",
       "      <td id=\"T_c80cd_row0_col0\" class=\"data row0 col0\" >03</td>\n",
       "      <td id=\"T_c80cd_row0_col1\" class=\"data row0 col1\" >2</td>\n",
       "      <td id=\"T_c80cd_row0_col2\" class=\"data row0 col2\" >sub-03_task-simon_run-2_bold.nii.gz</td>\n",
       "    </tr>\n",
       "  </tbody>\n",
       "</table>\n"
      ],
      "text/plain": [
       "<pandas.io.formats.style.Styler at 0x7f8a6ad265b0>"
      ]
     },
     "metadata": {},
     "output_type": "display_data"
    }
   ],
   "source": [
    "display_groups(inputs, [\"run\", \"subject\"])"
   ]
  },
  {
   "cell_type": "markdown",
   "id": "9f59865f",
   "metadata": {},
   "source": [
    "```{note}\n",
    "By default, `Nodes` are linked sequentially, with all the `Contrast` outputs from a `Node` available to the subsequent `Node`.\n",
    "```\n",
    "\n",
    "### Subject level Node\n",
    "\n",
    "#### From Run Outputs to Subject Inputs\n",
    "\n",
    "Next, we define a fixed-effects model to combine contrast outputs from each\n",
    "subject's runs together.\n",
    "\n",
    "```{literalinclude} examples/model-walkthrough_smdl.json\n",
    ":language: JSON\n",
    ":lines: 20-26\n",
    "```\n",
    "\n",
    "We need to use `GroupBy` to define how to group the outputs from the `Run` node\n",
    "as inputs to the `Subject` level:\n",
    "\n",
    "Here we are specifying that all images belonging to a single `subject` and from a single `contrast` should be grouped into a unit of analysis.\n",
    "\n",
    "Note that with 3 subjects and 2 runs, we will have 6 groups of output images from the `Run` node. Given two types of images (`variance` and `effect`), this results in 12 images that would be grouped as follows:"
   ]
  },
  {
   "cell_type": "code",
   "execution_count": 5,
   "id": "9f243f79",
   "metadata": {
    "tags": [
     "remove_input"
    ]
   },
   "outputs": [
    {
     "data": {
      "text/html": [
       "<style type=\"text/css\">\n",
       "</style>\n",
       "<table id=\"T_108f4\">\n",
       "  <thead>\n",
       "    <tr>\n",
       "      <th id=\"T_108f4_level0_col0\" class=\"col_heading level0 col0\" >subject</th>\n",
       "      <th id=\"T_108f4_level0_col1\" class=\"col_heading level0 col1\" >run</th>\n",
       "      <th id=\"T_108f4_level0_col2\" class=\"col_heading level0 col2\" >contrast</th>\n",
       "      <th id=\"T_108f4_level0_col3\" class=\"col_heading level0 col3\" >image</th>\n",
       "    </tr>\n",
       "  </thead>\n",
       "  <tbody>\n",
       "    <tr>\n",
       "      <td id=\"T_108f4_row0_col0\" class=\"data row0 col0\" >01</td>\n",
       "      <td id=\"T_108f4_row0_col1\" class=\"data row0 col1\" >1</td>\n",
       "      <td id=\"T_108f4_row0_col2\" class=\"data row0 col2\" >IvC</td>\n",
       "      <td id=\"T_108f4_row0_col3\" class=\"data row0 col3\" >sub-01_task-simon_run-1_contrast-IvC_stat-effect_statmap.nii</td>\n",
       "    </tr>\n",
       "    <tr>\n",
       "      <td id=\"T_108f4_row1_col0\" class=\"data row1 col0\" >01</td>\n",
       "      <td id=\"T_108f4_row1_col1\" class=\"data row1 col1\" >1</td>\n",
       "      <td id=\"T_108f4_row1_col2\" class=\"data row1 col2\" >IvC</td>\n",
       "      <td id=\"T_108f4_row1_col3\" class=\"data row1 col3\" >sub-01_task-simon_run-1_contrast-IvC_stat-variance_statmap.nii</td>\n",
       "    </tr>\n",
       "    <tr>\n",
       "      <td id=\"T_108f4_row2_col0\" class=\"data row2 col0\" >01</td>\n",
       "      <td id=\"T_108f4_row2_col1\" class=\"data row2 col1\" >2</td>\n",
       "      <td id=\"T_108f4_row2_col2\" class=\"data row2 col2\" >IvC</td>\n",
       "      <td id=\"T_108f4_row2_col3\" class=\"data row2 col3\" >sub-01_task-simon_run-2_contrast-IvC_stat-effect_statmap.nii</td>\n",
       "    </tr>\n",
       "    <tr>\n",
       "      <td id=\"T_108f4_row3_col0\" class=\"data row3 col0\" >01</td>\n",
       "      <td id=\"T_108f4_row3_col1\" class=\"data row3 col1\" >2</td>\n",
       "      <td id=\"T_108f4_row3_col2\" class=\"data row3 col2\" >IvC</td>\n",
       "      <td id=\"T_108f4_row3_col3\" class=\"data row3 col3\" >sub-01_task-simon_run-2_contrast-IvC_stat-variance_statmap.nii</td>\n",
       "    </tr>\n",
       "  </tbody>\n",
       "</table>\n"
      ],
      "text/plain": [
       "<pandas.io.formats.style.Styler at 0x7f8a6acecc10>"
      ]
     },
     "metadata": {},
     "output_type": "display_data"
    },
    {
     "data": {
      "text/html": [
       "<style type=\"text/css\">\n",
       "</style>\n",
       "<table id=\"T_a6f27\">\n",
       "  <thead>\n",
       "    <tr>\n",
       "      <th id=\"T_a6f27_level0_col0\" class=\"col_heading level0 col0\" >subject</th>\n",
       "      <th id=\"T_a6f27_level0_col1\" class=\"col_heading level0 col1\" >run</th>\n",
       "      <th id=\"T_a6f27_level0_col2\" class=\"col_heading level0 col2\" >contrast</th>\n",
       "      <th id=\"T_a6f27_level0_col3\" class=\"col_heading level0 col3\" >image</th>\n",
       "    </tr>\n",
       "  </thead>\n",
       "  <tbody>\n",
       "    <tr>\n",
       "      <td id=\"T_a6f27_row0_col0\" class=\"data row0 col0\" >02</td>\n",
       "      <td id=\"T_a6f27_row0_col1\" class=\"data row0 col1\" >1</td>\n",
       "      <td id=\"T_a6f27_row0_col2\" class=\"data row0 col2\" >IvC</td>\n",
       "      <td id=\"T_a6f27_row0_col3\" class=\"data row0 col3\" >sub-02_task-simon_run-1_contrast-IvC_stat-effect_statmap.nii</td>\n",
       "    </tr>\n",
       "    <tr>\n",
       "      <td id=\"T_a6f27_row1_col0\" class=\"data row1 col0\" >02</td>\n",
       "      <td id=\"T_a6f27_row1_col1\" class=\"data row1 col1\" >1</td>\n",
       "      <td id=\"T_a6f27_row1_col2\" class=\"data row1 col2\" >IvC</td>\n",
       "      <td id=\"T_a6f27_row1_col3\" class=\"data row1 col3\" >sub-02_task-simon_run-1_contrast-IvC_stat-variance_statmap.nii</td>\n",
       "    </tr>\n",
       "    <tr>\n",
       "      <td id=\"T_a6f27_row2_col0\" class=\"data row2 col0\" >02</td>\n",
       "      <td id=\"T_a6f27_row2_col1\" class=\"data row2 col1\" >2</td>\n",
       "      <td id=\"T_a6f27_row2_col2\" class=\"data row2 col2\" >IvC</td>\n",
       "      <td id=\"T_a6f27_row2_col3\" class=\"data row2 col3\" >sub-02_task-simon_run-2_contrast-IvC_stat-effect_statmap.nii</td>\n",
       "    </tr>\n",
       "    <tr>\n",
       "      <td id=\"T_a6f27_row3_col0\" class=\"data row3 col0\" >02</td>\n",
       "      <td id=\"T_a6f27_row3_col1\" class=\"data row3 col1\" >2</td>\n",
       "      <td id=\"T_a6f27_row3_col2\" class=\"data row3 col2\" >IvC</td>\n",
       "      <td id=\"T_a6f27_row3_col3\" class=\"data row3 col3\" >sub-02_task-simon_run-2_contrast-IvC_stat-variance_statmap.nii</td>\n",
       "    </tr>\n",
       "  </tbody>\n",
       "</table>\n"
      ],
      "text/plain": [
       "<pandas.io.formats.style.Styler at 0x7f8a6ad386d0>"
      ]
     },
     "metadata": {},
     "output_type": "display_data"
    },
    {
     "data": {
      "text/html": [
       "<style type=\"text/css\">\n",
       "</style>\n",
       "<table id=\"T_f9652\">\n",
       "  <thead>\n",
       "    <tr>\n",
       "      <th id=\"T_f9652_level0_col0\" class=\"col_heading level0 col0\" >subject</th>\n",
       "      <th id=\"T_f9652_level0_col1\" class=\"col_heading level0 col1\" >run</th>\n",
       "      <th id=\"T_f9652_level0_col2\" class=\"col_heading level0 col2\" >contrast</th>\n",
       "      <th id=\"T_f9652_level0_col3\" class=\"col_heading level0 col3\" >image</th>\n",
       "    </tr>\n",
       "  </thead>\n",
       "  <tbody>\n",
       "    <tr>\n",
       "      <td id=\"T_f9652_row0_col0\" class=\"data row0 col0\" >03</td>\n",
       "      <td id=\"T_f9652_row0_col1\" class=\"data row0 col1\" >1</td>\n",
       "      <td id=\"T_f9652_row0_col2\" class=\"data row0 col2\" >IvC</td>\n",
       "      <td id=\"T_f9652_row0_col3\" class=\"data row0 col3\" >sub-03_task-simon_run-1_contrast-IvC_stat-effect_statmap.nii</td>\n",
       "    </tr>\n",
       "    <tr>\n",
       "      <td id=\"T_f9652_row1_col0\" class=\"data row1 col0\" >03</td>\n",
       "      <td id=\"T_f9652_row1_col1\" class=\"data row1 col1\" >1</td>\n",
       "      <td id=\"T_f9652_row1_col2\" class=\"data row1 col2\" >IvC</td>\n",
       "      <td id=\"T_f9652_row1_col3\" class=\"data row1 col3\" >sub-03_task-simon_run-1_contrast-IvC_stat-variance_statmap.nii</td>\n",
       "    </tr>\n",
       "    <tr>\n",
       "      <td id=\"T_f9652_row2_col0\" class=\"data row2 col0\" >03</td>\n",
       "      <td id=\"T_f9652_row2_col1\" class=\"data row2 col1\" >2</td>\n",
       "      <td id=\"T_f9652_row2_col2\" class=\"data row2 col2\" >IvC</td>\n",
       "      <td id=\"T_f9652_row2_col3\" class=\"data row2 col3\" >sub-03_task-simon_run-2_contrast-IvC_stat-effect_statmap.nii</td>\n",
       "    </tr>\n",
       "    <tr>\n",
       "      <td id=\"T_f9652_row3_col0\" class=\"data row3 col0\" >03</td>\n",
       "      <td id=\"T_f9652_row3_col1\" class=\"data row3 col1\" >2</td>\n",
       "      <td id=\"T_f9652_row3_col2\" class=\"data row3 col2\" >IvC</td>\n",
       "      <td id=\"T_f9652_row3_col3\" class=\"data row3 col3\" >sub-03_task-simon_run-2_contrast-IvC_stat-variance_statmap.nii</td>\n",
       "    </tr>\n",
       "  </tbody>\n",
       "</table>\n"
      ],
      "text/plain": [
       "<pandas.io.formats.style.Styler at 0x7f8a6ad1c730>"
      ]
     },
     "metadata": {},
     "output_type": "display_data"
    }
   ],
   "source": [
    "outputs = pd.DataFrame.from_records(\n",
    "  [{\n",
    "     \"subject\": subject,\n",
    "     \"run\": run,\n",
    "     \"contrast\": contrast,\n",
    "     \"image\": f\"sub-{subject}_task-simon_run-{run}_\"\n",
    "              f\"contrast-{contrast}_stat-{stat}_statmap.nii\",\n",
    "   }\n",
    "   for subject in subjects for run in runs\n",
    "   for contrast in contrasts for stat in stats]\n",
    ")\n",
    "display_groups(outputs, [\"subject\", \"contrast\"])"
   ]
  },
  {
   "cell_type": "markdown",
   "id": "60bac242",
   "metadata": {},
   "source": [
    "```{tip}\n",
    "Although there is only one `contrast`, we include `contrast` as a grouping variable to be explicit.\n",
    "```\n",
    "\n",
    "#### Subject Model\n",
    "\n",
    "We can now specify the `Subject` level `Model`. \n",
    "\n",
    "```{literalinclude} examples/model-walkthrough_smdl.json\n",
    ":language: JSON\n",
    ":start-at: '\"Model\": {\"X\": [1], \"Type\": \"meta\"}'\n",
    ":lines: 1-2\n",
    "```\n",
    "\n",
    "Since our intent is to estimate the _mean effect_ for each subject, we only need an \n",
    "intercept (`1`) in our model. We specify the `\"Type\"` to be `Meta`, which is a \n",
    "special type to identify fixed-effects models.\n",
    "\n",
    "Remember that we must specify `Contrasts` in order to produce outputs for the\n",
    "next `Node`. `DummyContrasts` is a convenience function which will create contrasts with\n",
    "the weights `[1]` for all modeled inputs. Since we are not comparing anything at \n",
    "the subject-level and simply want to pass forward the estimates generated by the \n",
    "fixed-effects model, this is useful and saves us from specifying a more \n",
    "verbose (but identical) `Contrast`.\n",
    "\n",
    "```{literalinclude} examples/model-walkthrough_smdl.json\n",
    ":language: JSON\n",
    ":start-at: '\"Model\": {\"X\": [1], \"Type\": \"meta\"}'\n",
    ":lines: 1-2\n",
    "```\n",
    "\n",
    "```{note}\n",
    "We will dive into more details about `Contrasts` in the next chapter.\n",
    "```\n",
    "\n",
    "### Dataset level Node\n",
    "\n",
    "We are ready to perform a one-sample t-test to estimate population-level effects\n",
    "for the _IvC_ `Contrast`. We refer to this level as the `Dataset` level.\n",
    "\n",
    "```{literalinclude} examples/model-walkthrough_smdl.json\n",
    ":language: JSON\n",
    ":start-at: '\"Level\": \"Dataset\",'\n",
    ":lines: 1-3\n",
    "```\n",
    "\n",
    "Here we only need to `GroupBy` `contrast`, as we want to compute a separate estimate for\n",
    "each contrast, but want to include all subjects in the same analysis. Since we\n",
    "only have one `contrast`, all the incoming subject-level images will be grouped\n",
    "together:"
   ]
  },
  {
   "cell_type": "code",
   "execution_count": 6,
   "id": "36d17512",
   "metadata": {
    "tags": [
     "remove_input"
    ]
   },
   "outputs": [
    {
     "data": {
      "text/html": [
       "<style type=\"text/css\">\n",
       "</style>\n",
       "<table id=\"T_75f8e\">\n",
       "  <thead>\n",
       "    <tr>\n",
       "      <th id=\"T_75f8e_level0_col0\" class=\"col_heading level0 col0\" >subject</th>\n",
       "      <th id=\"T_75f8e_level0_col1\" class=\"col_heading level0 col1\" >contrast</th>\n",
       "      <th id=\"T_75f8e_level0_col2\" class=\"col_heading level0 col2\" >image</th>\n",
       "    </tr>\n",
       "  </thead>\n",
       "  <tbody>\n",
       "    <tr>\n",
       "      <td id=\"T_75f8e_row0_col0\" class=\"data row0 col0\" >01</td>\n",
       "      <td id=\"T_75f8e_row0_col1\" class=\"data row0 col1\" >IvC</td>\n",
       "      <td id=\"T_75f8e_row0_col2\" class=\"data row0 col2\" >sub-01_task-simon_contrast-IvC_stat-effect_statmap.nii</td>\n",
       "    </tr>\n",
       "    <tr>\n",
       "      <td id=\"T_75f8e_row1_col0\" class=\"data row1 col0\" >01</td>\n",
       "      <td id=\"T_75f8e_row1_col1\" class=\"data row1 col1\" >IvC</td>\n",
       "      <td id=\"T_75f8e_row1_col2\" class=\"data row1 col2\" >sub-01_task-simon_contrast-IvC_stat-variance_statmap.nii</td>\n",
       "    </tr>\n",
       "    <tr>\n",
       "      <td id=\"T_75f8e_row2_col0\" class=\"data row2 col0\" >02</td>\n",
       "      <td id=\"T_75f8e_row2_col1\" class=\"data row2 col1\" >IvC</td>\n",
       "      <td id=\"T_75f8e_row2_col2\" class=\"data row2 col2\" >sub-02_task-simon_contrast-IvC_stat-effect_statmap.nii</td>\n",
       "    </tr>\n",
       "    <tr>\n",
       "      <td id=\"T_75f8e_row3_col0\" class=\"data row3 col0\" >02</td>\n",
       "      <td id=\"T_75f8e_row3_col1\" class=\"data row3 col1\" >IvC</td>\n",
       "      <td id=\"T_75f8e_row3_col2\" class=\"data row3 col2\" >sub-02_task-simon_contrast-IvC_stat-variance_statmap.nii</td>\n",
       "    </tr>\n",
       "    <tr>\n",
       "      <td id=\"T_75f8e_row4_col0\" class=\"data row4 col0\" >03</td>\n",
       "      <td id=\"T_75f8e_row4_col1\" class=\"data row4 col1\" >IvC</td>\n",
       "      <td id=\"T_75f8e_row4_col2\" class=\"data row4 col2\" >sub-03_task-simon_contrast-IvC_stat-effect_statmap.nii</td>\n",
       "    </tr>\n",
       "    <tr>\n",
       "      <td id=\"T_75f8e_row5_col0\" class=\"data row5 col0\" >03</td>\n",
       "      <td id=\"T_75f8e_row5_col1\" class=\"data row5 col1\" >IvC</td>\n",
       "      <td id=\"T_75f8e_row5_col2\" class=\"data row5 col2\" >sub-03_task-simon_contrast-IvC_stat-variance_statmap.nii</td>\n",
       "    </tr>\n",
       "  </tbody>\n",
       "</table>\n"
      ],
      "text/plain": [
       "<pandas.io.formats.style.Styler at 0x7f8a6ad38250>"
      ]
     },
     "metadata": {},
     "output_type": "display_data"
    }
   ],
   "source": [
    "outputs = pd.DataFrame.from_records(\n",
    "  [{\n",
    "     \"subject\": subject,\n",
    "     \"contrast\": contrast,\n",
    "     \"image\": f\"sub-{subject}_task-simon_\"\n",
    "              f\"contrast-{contrast}_stat-{stat}_statmap.nii\",\n",
    "   }\n",
    "   for subject in subjects\n",
    "   for contrast in contrasts for stat in stats]\n",
    ")\n",
    "display_groups(outputs, [\"contrast\"])"
   ]
  },
  {
   "cell_type": "markdown",
   "id": "a0257fc6",
   "metadata": {},
   "source": [
    "As before, we can specify an intercept-only model, but of type `glm` since we want to perform a random-effects analysis.\n",
    "\n",
    "Here, we can again use `DummyContrasts` to specify a simple one-sample t-test contrast on the incoming `IvC` subject-level contrasts. \n",
    "\n",
    "\n",
    "```{literalinclude} examples/model-walkthrough_smdl.json\n",
    ":language: JSON\n",
    ":lines: 31-32\n",
    "```\n",
    "\n",
    "The outputs of this node collapse across subjects, leaving a single effect/variance pair:"
   ]
  },
  {
   "cell_type": "code",
   "execution_count": 7,
   "id": "36007d27",
   "metadata": {
    "tags": [
     "remove_input"
    ]
   },
   "outputs": [
    {
     "data": {
      "text/html": [
       "<style type=\"text/css\">\n",
       "</style>\n",
       "<table id=\"T_396a4\">\n",
       "  <thead>\n",
       "    <tr>\n",
       "      <th id=\"T_396a4_level0_col0\" class=\"col_heading level0 col0\" >contrast</th>\n",
       "      <th id=\"T_396a4_level0_col1\" class=\"col_heading level0 col1\" >image</th>\n",
       "    </tr>\n",
       "  </thead>\n",
       "  <tbody>\n",
       "    <tr>\n",
       "      <td id=\"T_396a4_row0_col0\" class=\"data row0 col0\" >IvC</td>\n",
       "      <td id=\"T_396a4_row0_col1\" class=\"data row0 col1\" >task-simon_contrast-IvC_stat-effect_statmap.nii</td>\n",
       "    </tr>\n",
       "    <tr>\n",
       "      <td id=\"T_396a4_row1_col0\" class=\"data row1 col0\" >IvC</td>\n",
       "      <td id=\"T_396a4_row1_col1\" class=\"data row1 col1\" >task-simon_contrast-IvC_stat-variance_statmap.nii</td>\n",
       "    </tr>\n",
       "  </tbody>\n",
       "</table>\n"
      ],
      "text/plain": [
       "<pandas.io.formats.style.Styler at 0x7f8a98e76ac0>"
      ]
     },
     "metadata": {},
     "output_type": "display_data"
    }
   ],
   "source": [
    "outputs = pd.DataFrame.from_records(\n",
    "  [{\n",
    "     \"contrast\": contrast,\n",
    "     \"image\": f\"task-simon_contrast-{contrast}_stat-{stat}_statmap.nii\",\n",
    "   }\n",
    "   for contrast in contrasts for stat in stats]\n",
    ")\n",
    "display_groups(outputs, [\"contrast\"])"
   ]
  },
  {
   "cell_type": "markdown",
   "id": "1d28a85d",
   "metadata": {},
   "source": [
    "## Ready to run 🚀\n",
    "\n",
    "At this point, we have a fully specified model three-stage fMRI model. \n",
    "\n",
    "Our model will compute a run level incongruent-congruent contrast, pass forward the estimates to a fixed-effects model to pool subject estimates, and compute a dataset-level random-effects model and one-sample t-test to estimate population effects for the `IvC` contrast. \n",
    "\n",
    "We can now pair this *BSM* specification with a pre-processed derivative from the original raw dataset and hand these to a tool that supports *BSM* for **fully automated execution**.\n",
    "\n",
    "### Next up\n",
    "\n",
    "- Read the next chapter to dive deeper into advanced usage of *BSM* that enable more complex models.\n",
    "- Check out tools like [FitLins](https://github.com/poldracklab/fitlins) which implement *BSM* execution, and run this or your own model.\n",
    "- Take a look at more example models in the  **[](model-zoo.md)**."
   ]
  }
 ],
 "metadata": {
  "jupytext": {
   "formats": "md:myst",
   "text_representation": {
    "extension": ".md",
    "format_name": "myst"
   }
  },
  "kernelspec": {
   "display_name": "Python 3",
   "language": "python",
   "name": "python3"
  },
  "language_info": {
   "codemirror_mode": {
    "name": "ipython",
    "version": 3
   },
   "file_extension": ".py",
   "mimetype": "text/x-python",
   "name": "python",
   "nbconvert_exporter": "python",
   "pygments_lexer": "ipython3",
   "version": "3.9.12"
  },
  "source_map": [
   11,
   149,
   175,
   179,
   184,
   188,
   193,
   198,
   203,
   228,
   244,
   297,
   312,
   326,
   338
  ]
 },
 "nbformat": 4,
 "nbformat_minor": 5
}